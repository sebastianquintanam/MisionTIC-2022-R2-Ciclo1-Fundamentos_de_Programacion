{
 "cells": [
  {
   "cell_type": "markdown",
   "metadata": {},
   "source": [
    "## Imprimir datos en pantalla"
   ]
  },
  {
   "cell_type": "code",
   "execution_count": 14,
   "metadata": {},
   "outputs": [
    {
     "name": "stdout",
     "output_type": "stream",
     "text": [
      "\n"
     ]
    }
   ],
   "source": [
    "print()"
   ]
  },
  {
   "cell_type": "code",
   "execution_count": 2,
   "metadata": {},
   "outputs": [
    {
     "name": "stdout",
     "output_type": "stream",
     "text": [
      "Hola, Mundo!\n"
     ]
    }
   ],
   "source": [
    "print(\"Hola, Mundo!\")"
   ]
  },
  {
   "cell_type": "code",
   "execution_count": 3,
   "metadata": {},
   "outputs": [
    {
     "name": "stdout",
     "output_type": "stream",
     "text": [
      "35\n"
     ]
    }
   ],
   "source": [
    "print(10 + 25)"
   ]
  },
  {
   "cell_type": "code",
   "execution_count": 4,
   "metadata": {},
   "outputs": [
    {
     "name": "stdout",
     "output_type": "stream",
     "text": [
      "10 + 25 =  35\n"
     ]
    }
   ],
   "source": [
    "print(\"10 + 25 = \", (10+25))"
   ]
  },
  {
   "cell_type": "code",
   "execution_count": 13,
   "metadata": {},
   "outputs": [
    {
     "name": "stdout",
     "output_type": "stream",
     "text": [
      "10 + 25 =\n",
      "35\n"
     ]
    }
   ],
   "source": [
    "print(\"10 + 25 =\"); print(10 + 25)"
   ]
  },
  {
   "cell_type": "markdown",
   "metadata": {},
   "source": [
    "## Comentarios"
   ]
  },
  {
   "cell_type": "code",
   "execution_count": null,
   "metadata": {},
   "outputs": [],
   "source": [
    "\n",
    "# Esto es un comentario de una sola línea\n",
    "print(\"Comentarios\") # Tambien puedo comentar al final de una expresión\n",
    "\n",
    "# Este es un comentario multilínea, osea que para mejorar la legibilidad \n",
    "# del texto, se puede escribir varias líneas\n",
    "# Siempre es muy importante dejar las ideas claras cuando se programa\n",
    "\n",
    "# Tambien se pueden comentar líneas de código\n",
    "# print(\"Hola, Mundo!\")"
   ]
  },
  {
   "cell_type": "markdown",
   "metadata": {},
   "source": [
    "## Tipos de datos"
   ]
  },
  {
   "cell_type": "markdown",
   "metadata": {},
   "source": [
    "### Tipos texto (_str_)"
   ]
  },
  {
   "cell_type": "code",
   "execution_count": 12,
   "metadata": {},
   "outputs": [
    {
     "name": "stdout",
     "output_type": "stream",
     "text": [
      "Cadena: Hola <class 'str'>\n",
      "Cadena: Mundo <class 'str'>\n"
     ]
    }
   ],
   "source": [
    "\"Este es un texto\"  # Preferido\n",
    "'Este tambien es un texto válido en python'\n",
    "\n",
    "print(\"Cadena:\", 'Hola', type('Hola'))\n",
    "print(\"Cadena:\", \"Mundo\", type(\"Mundo\"))"
   ]
  },
  {
   "cell_type": "markdown",
   "metadata": {},
   "source": [
    "### Tipos numéricos"
   ]
  },
  {
   "cell_type": "markdown",
   "metadata": {},
   "source": [
    "#### Enteros (_int_)"
   ]
  },
  {
   "cell_type": "code",
   "execution_count": null,
   "metadata": {},
   "outputs": [],
   "source": [
    "0\n",
    "10\n",
    "35\n",
    "2154225\n",
    "-3562"
   ]
  },
  {
   "cell_type": "markdown",
   "metadata": {},
   "source": [
    "#### Decimales / Flotantes (_float_)"
   ]
  },
  {
   "cell_type": "code",
   "execution_count": null,
   "metadata": {},
   "outputs": [],
   "source": [
    "0.0\n",
    "10.0\n",
    "35.3055425\n",
    "25252365.55\n",
    "-127.2548\n",
    "35e3 # 35000.0\n",
    "12E4 # 120000.0\n",
    "-87.7e100 # -87700000000000000...\n",
    "15e-5 # 0.00015\n",
    "\n",
    "1e6 # 1000000.0\n",
    "1e50 # 1000000000000000000000000000000000000000000000000000000000.0\n",
    "12.514e10 # 125140000000.0 = 12514e7"
   ]
  },
  {
   "cell_type": "markdown",
   "metadata": {},
   "source": [
    "#### Complejos (_complex_)"
   ]
  },
  {
   "cell_type": "code",
   "execution_count": null,
   "metadata": {},
   "outputs": [],
   "source": [
    "3 + 5j # 3 real, 5 imaginarios -> (3, 5i)\n",
    "4j # 0 real, 5 imaginarios -> (0, 4i)\n",
    "-7j # 0 real, -7 imaginarios -> (0, -7i)\n",
    "1j #"
   ]
  },
  {
   "cell_type": "markdown",
   "metadata": {},
   "source": [
    "### Tipos secuenciales o colecciones"
   ]
  },
  {
   "cell_type": "markdown",
   "metadata": {},
   "source": [
    "#### Listas (_list_)"
   ]
  },
  {
   "cell_type": "code",
   "execution_count": null,
   "metadata": {},
   "outputs": [],
   "source": [
    "[]\n",
    "[1, 2, 3]\n",
    "[\"A\", \"B\", \"C\"]\n",
    "[1.0, 2, \"3\", [1, 2, 3]] # En una lista, los elementos pueden ser de cualquier tipo"
   ]
  },
  {
   "cell_type": "markdown",
   "metadata": {},
   "source": [
    "#### Tuplas (_tuple_)"
   ]
  },
  {
   "cell_type": "code",
   "execution_count": null,
   "metadata": {},
   "outputs": [],
   "source": [
    "()\n",
    "(1, 2, 3)\n",
    "(\"A\", \"B\", \"C\")\n",
    "(1.0, 2, \"3\", [1, 2, 3]) # En las tuplas, los elementos tambien pueden ser de cualquier tipo"
   ]
  },
  {
   "cell_type": "markdown",
   "metadata": {},
   "source": [
    "#### Rangos (_range_)"
   ]
  },
  {
   "cell_type": "code",
   "execution_count": null,
   "metadata": {},
   "outputs": [],
   "source": [
    "range(7) # 0, 1, 2, 3, 4, 5, 6\n",
    "range(1,10) # 1, 2, 3, 4, 5, 6, 7, 8, 9\n",
    "range(0,10,2) # 0, 2, 4, 6, 8"
   ]
  },
  {
   "cell_type": "markdown",
   "metadata": {},
   "source": [
    "#### Tipos de mapas (_dict_)"
   ]
  },
  {
   "cell_type": "code",
   "execution_count": null,
   "metadata": {},
   "outputs": [],
   "source": [
    "{} # Diccionario vácio\n",
    "{ \"clave\": \"valor\" }\n",
    "{\n",
    "    \"nombre\": \"Cesar Diaz\",\n",
    "    \"edad\": 41,\n",
    "    \"estatura\": 1.83\n",
    "}"
   ]
  },
  {
   "cell_type": "markdown",
   "metadata": {},
   "source": [
    "#### Tipos de conjunto (_set_, _frozenset_)"
   ]
  },
  {
   "cell_type": "code",
   "execution_count": null,
   "metadata": {},
   "outputs": [],
   "source": [
    "{ 1 }\n",
    "{ \"a\", \"b\", \"c\" }\n",
    "{\"abc\", 34, True, 40, \"male\"} "
   ]
  },
  {
   "cell_type": "markdown",
   "metadata": {},
   "source": [
    "### Tipos booleanos (_bool_)"
   ]
  },
  {
   "cell_type": "code",
   "execution_count": null,
   "metadata": {},
   "outputs": [],
   "source": [
    "True\n",
    "False"
   ]
  },
  {
   "cell_type": "markdown",
   "metadata": {},
   "source": [
    "## Variables"
   ]
  },
  {
   "cell_type": "code",
   "execution_count": 15,
   "metadata": {},
   "outputs": [
    {
     "name": "stdout",
     "output_type": "stream",
     "text": [
      "5 <class 'int'>\n",
      "Cesar <class 'str'>\n"
     ]
    }
   ],
   "source": [
    "variable_1 = 5\n",
    "variable_2 = \"Cesar\"\n",
    "print(variable_1, type(variable_1))\n",
    "print(variable_2, type(variable_2))"
   ]
  },
  {
   "cell_type": "code",
   "execution_count": 16,
   "metadata": {},
   "outputs": [
    {
     "name": "stdout",
     "output_type": "stream",
     "text": [
      "5 <class 'int'>\n"
     ]
    }
   ],
   "source": [
    "variable_2 = variable_1\n",
    "print(variable_2, type(variable_2))"
   ]
  },
  {
   "cell_type": "code",
   "execution_count": 17,
   "metadata": {},
   "outputs": [],
   "source": [
    "a = 0\n",
    "A = 0"
   ]
  },
  {
   "cell_type": "code",
   "execution_count": null,
   "metadata": {},
   "outputs": [],
   "source": [
    "variable_3 = 325.0\n",
    "Variable_3 = \"Es una variable diferente\"\n",
    "print(variable_3, Variable_3)"
   ]
  },
  {
   "cell_type": "markdown",
   "metadata": {},
   "source": [
    "### Nombres de variables"
   ]
  },
  {
   "cell_type": "code",
   "execution_count": null,
   "metadata": {},
   "outputs": [],
   "source": [
    "mivariable = \"John\"\n",
    "mi_variable = \"John\" # preferido\n",
    "_mi_variable = \"John\"\n",
    "m1iVariable = \"John\"\n",
    "MIVARIABLE = \"John\" # Solo para constantes, pero es sugerido MI_VARIABLE\n",
    "mivariable2 = \"John\""
   ]
  },
  {
   "cell_type": "markdown",
   "metadata": {},
   "source": [
    "## Conversiones de tipo"
   ]
  },
  {
   "cell_type": "code",
   "execution_count": null,
   "metadata": {},
   "outputs": [],
   "source": [
    "variable_entera_1 = int(1)   # 1\n",
    "variable_entera_2 = int(2.8) # 2\n",
    "variable_entera_3 = int(\"3\") # 3\n",
    "\n",
    "variable_flotante_1 = float(1000000000000000000)     # 1.0E15\n",
    "variable_flotante_2 = float(2.8)   # 2.8\n",
    "variable_flotante_3 = float(\"3\")   # 3.0\n",
    "variable_flotante_4 = float(\"4.2\") # 4.2\n",
    "\n",
    "variable_cadena_1 = str(\"s1\") # \"s1\"\n",
    "variable_cadena_1 = str(2)    # \"2\"\n",
    "variable_cadena_1 = str(3.0)  # \"3.0\""
   ]
  },
  {
   "cell_type": "markdown",
   "metadata": {},
   "source": [
    "## Operadores aritméticos"
   ]
  },
  {
   "cell_type": "markdown",
   "metadata": {},
   "source": [
    "### '+' -> Adición (suma)"
   ]
  },
  {
   "cell_type": "code",
   "execution_count": null,
   "metadata": {},
   "outputs": [],
   "source": [
    "adicion_1 = 5 + 3                  # 5 + 3 = 8\n",
    "adicion_2 = adicion_1 + 10.1       # 8 + 10.1 = 18.1\n",
    "adicion_3 = adicion_1 + adicion_2  # 8 + 18.1 = 26.1\n",
    "adicion_3 = adicion_3 + 15         # 26.1 + 15 = 41.1"
   ]
  },
  {
   "cell_type": "markdown",
   "metadata": {},
   "source": [
    "### '-' --> Sustracción (resta)"
   ]
  },
  {
   "cell_type": "code",
   "execution_count": null,
   "metadata": {},
   "outputs": [],
   "source": [
    "sustraccion_1 = 35 - 10                       # 35 - 10 = 25\n",
    "sustraccion_2 = 50.1 - sustraccion_1          # 50.1 - 25 = 25.1\n",
    "sustraccion_3 = sustraccion_1 - sustraccion_2 # 25 - 25.1 = -0.1\n",
    "sustraccion_3 = sustraccion_3 - 1             # -0.1 - 1 = -1.1"
   ]
  },
  {
   "cell_type": "markdown",
   "metadata": {},
   "source": [
    "### '*' --> Multiplicación "
   ]
  },
  {
   "cell_type": "code",
   "execution_count": null,
   "metadata": {},
   "outputs": [],
   "source": [
    "multiplicacion_1 = 5 * 7                  # 5 * 7 = 35\n",
    "multiplicacion_2 = multiplicacion_1 * 2.0 # 35 * 2.0 = 70.0\n",
    "multiplicacion_3 = multiplicacion_2 * 0.2 # 70.0 * 0.2 = 14.0 \n",
    "multiplicacion_3 = multiplicacion_3 * 0.5 # 14.0 * 0.5 = 7.0"
   ]
  },
  {
   "cell_type": "markdown",
   "metadata": {},
   "source": [
    "### '/' --> División (Entera o decimal)"
   ]
  },
  {
   "cell_type": "code",
   "execution_count": null,
   "metadata": {},
   "outputs": [],
   "source": [
    "division_1 = 100 / 2          # 100 / 2 = 50\n",
    "division_2 = division_1 / 4   # 50 / 4 = 12.5\n",
    "division_3 = division_2 / 0.2 # 12.5 / 0.2 = 62.5 \n",
    "division_3 = division_3 / 0.5 # 62.5 / 0.5 = 125.0"
   ]
  },
  {
   "cell_type": "markdown",
   "metadata": {},
   "source": [
    "### '//' --> División entera (Parte entera de la división)"
   ]
  },
  {
   "cell_type": "code",
   "execution_count": 18,
   "metadata": {},
   "outputs": [],
   "source": [
    "division_entera_1 = 100 // 2                 # 100 // 2 = 50\n",
    "division_entera_2 = division_entera_1 // 4   # 50 // 4 = 12\n",
    "division_entera_3 = division_entera_2 // 0.2 # 12 // 0.2 = 59.0 # Ojo con el ajuste!!\n",
    "division_entera_3 = division_entera_3 // 0.5 # 59 // 0.5 = 118.0"
   ]
  },
  {
   "cell_type": "markdown",
   "metadata": {},
   "source": [
    "### '%'  --> Módulo (Resto de la división)"
   ]
  },
  {
   "cell_type": "code",
   "execution_count": null,
   "metadata": {},
   "outputs": [],
   "source": [
    "modulo_1 = 25 % 2        # 1 => 25 // 2 = 12 y resta 1\n",
    "modulo_2 = 25 % 7        # 4 => 25 // 7 = 3 y resta 4\n",
    "modulo_3 = 73 % modulo_2 # 1 => 73 // 4 = 18 y resta 1"
   ]
  },
  {
   "cell_type": "markdown",
   "metadata": {},
   "source": [
    "### '**' --> Exponenciación o Potencia ^"
   ]
  },
  {
   "cell_type": "code",
   "execution_count": null,
   "metadata": {},
   "outputs": [],
   "source": [
    "exponenciacion_1 = 11 ** 2                 # 121 => 11 * 11\n",
    "exponenciacion_2 = exponenciacion_1 ** 0.5 # 11.0 => Raiz Cuadrada\n",
    "exponenciacion_3 = exponenciacion_2 ** 3   # 1331.0 => 11 * 11 * 11"
   ]
  },
  {
   "cell_type": "markdown",
   "metadata": {},
   "source": [
    "## Operadores de asignación aritmética"
   ]
  },
  {
   "cell_type": "markdown",
   "metadata": {},
   "source": [
    "### '+=' -> Asignación de suma / Incremento _a += b_ <==> _a = a + b_"
   ]
  },
  {
   "cell_type": "code",
   "execution_count": null,
   "metadata": {},
   "outputs": [],
   "source": [
    "asinacion_suma = 110\n",
    "asinacion_suma += 15   # 125 \n",
    "asinacion_suma += 10.0 # 135.0 "
   ]
  },
  {
   "cell_type": "markdown",
   "metadata": {},
   "source": [
    "### '-=' --> Asignación de resta / Decremento _a -= b_ <==> _a = a - b_"
   ]
  },
  {
   "cell_type": "code",
   "execution_count": null,
   "metadata": {},
   "outputs": [],
   "source": [
    "asignacion_resta = 110\n",
    "asignacion_resta -= 15   # 95 \n",
    "asignacion_resta -= 10.0 # 85.0 "
   ]
  },
  {
   "cell_type": "markdown",
   "metadata": {},
   "source": [
    "### '*=' --> Asignación de multipicación _a *= b_ <==> _a = a * b_"
   ]
  },
  {
   "cell_type": "code",
   "execution_count": null,
   "metadata": {},
   "outputs": [],
   "source": [
    "asignacion_multiplicacion = 110\n",
    "asignacion_multiplicacion *= 5   # 550\n",
    "asignacion_multiplicacion *= 0.2 # 110.0"
   ]
  },
  {
   "cell_type": "markdown",
   "metadata": {},
   "source": [
    "### '/=' --> Asignación de división _a /= b_ <==> _a = a / b_"
   ]
  },
  {
   "cell_type": "code",
   "execution_count": null,
   "metadata": {},
   "outputs": [],
   "source": [
    "asignacion_division = 110\n",
    "asignacion_division /= 5   # 22.0\n",
    "asignacion_division /= 0.2 # 110.0"
   ]
  },
  {
   "cell_type": "markdown",
   "metadata": {},
   "source": [
    "### '//=' --> Asignación de división entera _a //= b_ <==> _a = a // b_"
   ]
  },
  {
   "cell_type": "code",
   "execution_count": null,
   "metadata": {},
   "outputs": [],
   "source": [
    "asignacion_division_entera = 110\n",
    "asignacion_division_entera //= 5   # 22\n",
    "asignacion_division_entera //= 0.2 # 109.0"
   ]
  },
  {
   "cell_type": "markdown",
   "metadata": {},
   "source": [
    "### '%=' --> Asignación de módulo  _a %= b_ <==> _a = a % b_"
   ]
  },
  {
   "cell_type": "code",
   "execution_count": null,
   "metadata": {},
   "outputs": [],
   "source": [
    "asignacion_modulo = 111\n",
    "asignacion_modulo %= 5   # 1\n",
    "asignacion_modulo %= 0.2 # 0.1999999..."
   ]
  },
  {
   "cell_type": "markdown",
   "metadata": {},
   "source": [
    "### '**=' --> Asignación de exponenciación (potencia)  _a **= b_ <==> _a = a ** b_"
   ]
  },
  {
   "cell_type": "code",
   "execution_count": null,
   "metadata": {},
   "outputs": [],
   "source": [
    "asignacion_exponenciacion = 1\n",
    "asignacion_exponenciacion **= 5   # 1\n",
    "asignacion_exponenciacion **= 0.2 # 1.0"
   ]
  },
  {
   "cell_type": "markdown",
   "metadata": {},
   "source": [
    "## Precedencia en operadores aritméticos\n",
    "\n",
    "1. **Paréntesis** ( )\n",
    "2. **Exponenciación** **\n",
    "3. **Negación de expresiones** -\n",
    "4. **Multiplicación** *, **División** /, **División entera** //, **Módulo** %\n",
    "5. **Adición** +, **Sustracción** -\n",
    "6. **Asignación** ="
   ]
  },
  {
   "cell_type": "code",
   "execution_count": null,
   "metadata": {},
   "outputs": [],
   "source": [
    "13 - 4 * ( 5 - 2 ) + 3 * ( 2 + 8 )\n",
    "13 - 4 *      3     + 3 *     10\n",
    "13 -   12          +      30\n",
    "31"
   ]
  },
  {
   "cell_type": "markdown",
   "metadata": {},
   "source": [
    "## Ejercicios"
   ]
  },
  {
   "cell_type": "code",
   "execution_count": 19,
   "metadata": {},
   "outputs": [
    {
     "name": "stdout",
     "output_type": "stream",
     "text": [
      "Ejercicio 1: 7\n"
     ]
    }
   ],
   "source": [
    "ejercicio_1 = 16 + 3 * (6 - 4) - 3 * 5\n",
    "print(\"Ejercicio 1:\", ejercicio_1)"
   ]
  },
  {
   "cell_type": "code",
   "execution_count": null,
   "metadata": {},
   "outputs": [],
   "source": [
    "ejercicio_2 = 23 - 8 + 6 * 2 - 3 * 4 \n",
    "print(\"Ejercicio 2:\", ejercicio_2)"
   ]
  },
  {
   "cell_type": "code",
   "execution_count": 20,
   "metadata": {},
   "outputs": [
    {
     "name": "stdout",
     "output_type": "stream",
     "text": [
      "Ejercicio 3: 69.0\n"
     ]
    }
   ],
   "source": [
    "ejercicio_3 = 6 * (7 * 5 - 4 * 6) + 81 / 9 - 6\n",
    "print(\"Ejercicio 3:\", ejercicio_3)"
   ]
  },
  {
   "cell_type": "code",
   "execution_count": 23,
   "metadata": {},
   "outputs": [
    {
     "name": "stdout",
     "output_type": "stream",
     "text": [
      "Ejercicio 4: 84.0\n"
     ]
    }
   ],
   "source": [
    "ejercicio_4 = 6 * 4 + 3 * (450 / 10 - 5 * (3 + 2))\n",
    "print(\"Ejercicio 4:\", ejercicio_4)"
   ]
  },
  {
   "cell_type": "code",
   "execution_count": null,
   "metadata": {},
   "outputs": [],
   "source": [
    "ejercicio_5 = 5 * 6 / 2 - (12 - 3) * 2\n",
    "print(\"Ejercicio 5:\", ejercicio_5)"
   ]
  }
 ],
 "metadata": {
  "interpreter": {
   "hash": "c538cf36d1368961783812db133503b5bcd381ebafab078933f492cb36ca4168"
  },
  "kernelspec": {
   "display_name": "Python 3.9.5 64-bit",
   "language": "python",
   "name": "python3"
  },
  "language_info": {
   "codemirror_mode": {
    "name": "ipython",
    "version": 3
   },
   "file_extension": ".py",
   "mimetype": "text/x-python",
   "name": "python",
   "nbconvert_exporter": "python",
   "pygments_lexer": "ipython3",
   "version": "3.10.4"
  },
  "orig_nbformat": 4
 },
 "nbformat": 4,
 "nbformat_minor": 2
}

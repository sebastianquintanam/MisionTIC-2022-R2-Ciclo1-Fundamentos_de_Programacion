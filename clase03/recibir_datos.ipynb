{
 "cells": [
  {
   "cell_type": "markdown",
   "metadata": {},
   "source": [
    "# Recibir datos del usuario"
   ]
  },
  {
   "cell_type": "code",
   "execution_count": 2,
   "metadata": {},
   "outputs": [
    {
     "name": "stdout",
     "output_type": "stream",
     "text": [
      "Ingrese su nombre:\n",
      "Su nombre completo es: Sebastian Quintana\n",
      "<class 'str'>\n",
      "<class 'str'>\n"
     ]
    }
   ],
   "source": [
    "print(\"Ingrese su nombre:\")\n",
    "nombre = input()\n",
    "\n",
    "apellido = input(\"Ingrese su apellido: \")\n",
    "\n",
    "print(\"Su nombre completo es:\", nombre, apellido)\n",
    "print(type(nombre))\n",
    "print(type(apellido))"
   ]
  },
  {
   "cell_type": "markdown",
   "metadata": {},
   "source": [
    "## Recibir datos numéricos del usuario"
   ]
  },
  {
   "cell_type": "code",
   "execution_count": 3,
   "metadata": {},
   "outputs": [
    {
     "name": "stdout",
     "output_type": "stream",
     "text": [
      "<class 'str'> <class 'str'>\n",
      "<class 'int'> <class 'int'>\n",
      "1 * 2 = 2\n"
     ]
    }
   ],
   "source": [
    "num_1 = input(\"Ingrese el primer número:\")\n",
    "num_2 = input(\"Ingrese el segundo número:\")\n",
    "\n",
    "print(type(num_1), type(num_2))\n",
    "\n",
    "num_1 = int(num_1)\n",
    "num_2 = int(num_2)\n",
    "\n",
    "print(type(num_1), type(num_2))\n",
    "\n",
    "print(num_1, \"*\", num_2, \"=\", num_1 * num_2)"
   ]
  },
  {
   "cell_type": "markdown",
   "metadata": {},
   "source": [
    "y un poco simplificado el código:"
   ]
  },
  {
   "cell_type": "code",
   "execution_count": 4,
   "metadata": {},
   "outputs": [
    {
     "name": "stdout",
     "output_type": "stream",
     "text": [
      "<class 'int'> <class 'int'>\n",
      "2 * 5 = 10\n"
     ]
    }
   ],
   "source": [
    "num_1 = int(input(\"Ingrese el primer número:\"))\n",
    "num_2 = int(input(\"Ingrese el segundo número:\"))\n",
    "\n",
    "print(type(num_1), type(num_2))\n",
    "\n",
    "print(num_1, \"*\", num_2, \"=\", num_1 * num_2)"
   ]
  }
 ],
 "metadata": {
  "interpreter": {
   "hash": "26de051ba29f2982a8de78e945f0abaf191376122a1563185a90213a26c5da77"
  },
  "kernelspec": {
   "display_name": "Python 3.10.4 64-bit",
   "language": "python",
   "name": "python3"
  },
  "language_info": {
   "codemirror_mode": {
    "name": "ipython",
    "version": 3
   },
   "file_extension": ".py",
   "mimetype": "text/x-python",
   "name": "python",
   "nbconvert_exporter": "python",
   "pygments_lexer": "ipython3",
   "version": "3.10.4"
  },
  "orig_nbformat": 4
 },
 "nbformat": 4,
 "nbformat_minor": 2
}

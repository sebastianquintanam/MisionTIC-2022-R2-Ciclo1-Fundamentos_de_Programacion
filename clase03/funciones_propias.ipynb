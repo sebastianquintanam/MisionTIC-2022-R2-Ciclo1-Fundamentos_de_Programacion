{
 "cells": [
  {
   "cell_type": "markdown",
   "metadata": {},
   "source": [
    "# Definición de funciones nuevas (personalizadas)"
   ]
  },
  {
   "cell_type": "markdown",
   "metadata": {},
   "source": [
    "```python\n",
    "def NOMBRE(LISTA_DE_PARAMETROS):\n",
    "    \"\"\"DOCSTRING_DE_FUNCION\"\"\"\n",
    "    SENTENCIAS\n",
    "    RETURN [EXPRESION]\n",
    "```\n",
    "**NOMBRE**: es el nombre de la función.  \n",
    "**LISTA_DE_PARAMETROS**: es la lista de parámetros que puede recibir una función.  \n",
    "**DOCSTRING_DE_FUNCION**: es la cadena de caracteres usada para documentar la función.  \n",
    "**SENTENCIAS**: es el bloque de sentencias en código fuente Python que realizar cierta operación dada.  \n",
    "**RETURN**: es la sentencia return en código Python.  \n",
    "**EXPRESION**: es la expresión o variable que devuelve la sentencia return."
   ]
  },
  {
   "cell_type": "code",
   "execution_count": 12,
   "metadata": {},
   "outputs": [],
   "source": [
    "def mi_funcion():\n",
    "    print(\"Imprimiendo desde la función\")"
   ]
  },
  {
   "cell_type": "code",
   "execution_count": 13,
   "metadata": {},
   "outputs": [
    {
     "name": "stdout",
     "output_type": "stream",
     "text": [
      "Imprimiendo desde la función\n"
     ]
    }
   ],
   "source": [
    "mi_funcion()"
   ]
  },
  {
   "cell_type": "markdown",
   "metadata": {},
   "source": [
    "## Uso de parámetros"
   ]
  },
  {
   "cell_type": "code",
   "execution_count": 8,
   "metadata": {},
   "outputs": [],
   "source": [
    "def saludo(nombre):\n",
    "    print(\"Hola\", nombre)"
   ]
  },
  {
   "cell_type": "code",
   "execution_count": 9,
   "metadata": {},
   "outputs": [
    {
     "name": "stdout",
     "output_type": "stream",
     "text": [
      "Hola Cesar\n"
     ]
    }
   ],
   "source": [
    "saludo(\"Cesar\")"
   ]
  },
  {
   "cell_type": "code",
   "execution_count": 10,
   "metadata": {},
   "outputs": [
    {
     "name": "stdout",
     "output_type": "stream",
     "text": [
      "Hola Andres\n"
     ]
    }
   ],
   "source": [
    "saludo(\"Andres\")"
   ]
  },
  {
   "cell_type": "code",
   "execution_count": 11,
   "metadata": {},
   "outputs": [
    {
     "name": "stdout",
     "output_type": "stream",
     "text": [
      "Hola Pablo\n"
     ]
    }
   ],
   "source": [
    "saludo(\"Pablo\")"
   ]
  },
  {
   "cell_type": "markdown",
   "metadata": {},
   "source": [
    "## Varios parámetros"
   ]
  },
  {
   "cell_type": "code",
   "execution_count": 12,
   "metadata": {},
   "outputs": [],
   "source": [
    "def nombre_completo(nombre, apellido = \"Abad\"):\n",
    "    \"\"\"Generación del nombre completo de la persona\n",
    "    Parámetros\n",
    "        nombre: Identifica a la persona\n",
    "        apellido: Representa la famiilia del padre y la madre\n",
    "    Retorna\n",
    "        La unión de los dos parametros ingresados\n",
    "    \"\"\"\n",
    "    return nombre + \" \" + apellido"
   ]
  },
  {
   "cell_type": "code",
   "execution_count": 13,
   "metadata": {},
   "outputs": [
    {
     "name": "stdout",
     "output_type": "stream",
     "text": [
      "Cesar Diaz\n",
      "Andrea Martinez\n",
      "Carolina Abad\n",
      "Paulo Noriega\n"
     ]
    }
   ],
   "source": [
    "print(nombre_completo(\"Cesar\", \"Diaz\"))\n",
    "print(nombre_completo(\"Andrea\", \"Martinez\"))\n",
    "print(nombre_completo(\"Carolina\"))\n",
    "print(nombre_completo(apellido=\"Noriega\", nombre = \"Paulo\"))"
   ]
  },
  {
   "cell_type": "code",
   "execution_count": 14,
   "metadata": {},
   "outputs": [
    {
     "name": "stdout",
     "output_type": "stream",
     "text": [
      "Generación del nombre completo de la persona\n",
      "    Parámetros\n",
      "        nombre: Identifica a la persona\n",
      "        apellido: Representa la famiilia del padre y la madre\n",
      "    Retorna\n",
      "        La unión de los dos parametros ingresados\n",
      "    \n"
     ]
    }
   ],
   "source": [
    "print(nombre_completo.__doc__)"
   ]
  }
 ],
 "metadata": {
  "interpreter": {
   "hash": "26de051ba29f2982a8de78e945f0abaf191376122a1563185a90213a26c5da77"
  },
  "kernelspec": {
   "display_name": "Python 3.10.4 64-bit",
   "language": "python",
   "name": "python3"
  },
  "language_info": {
   "codemirror_mode": {
    "name": "ipython",
    "version": 3
   },
   "file_extension": ".py",
   "mimetype": "text/x-python",
   "name": "python",
   "nbconvert_exporter": "python",
   "pygments_lexer": "ipython3",
   "version": "3.10.4"
  },
  "orig_nbformat": 4
 },
 "nbformat": 4,
 "nbformat_minor": 2
}

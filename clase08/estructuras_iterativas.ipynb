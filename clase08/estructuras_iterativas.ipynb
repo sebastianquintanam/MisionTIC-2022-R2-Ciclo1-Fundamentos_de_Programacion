{
 "cells": [
  {
   "cell_type": "markdown",
   "metadata": {},
   "source": [
    "# Estructuras iterativas\n",
    "Las computadoras se utilizan a menudo para realizar tareas repetitivas. Repetir tareas idénticas o similares sin\n",
    "cometer errores es algo que los ordenadores hacen bien y la gente lo hace mal."
   ]
  },
  {
   "cell_type": "markdown",
   "metadata": {},
   "source": [
    "## Ciclo `while`"
   ]
  },
  {
   "cell_type": "markdown",
   "metadata": {},
   "source": [
    "```Python\n",
    "<inicialización>\n",
    "while <condicion>:\n",
    "    <cuerpo>\n",
    "    <avance>\n",
    "```"
   ]
  },
  {
   "cell_type": "code",
   "execution_count": null,
   "metadata": {},
   "outputs": [],
   "source": [
    "n = 5\n",
    "while n > 0:\n",
    "    print(n)\n",
    "    n = n - 1\n",
    "print('Despegue!')"
   ]
  },
  {
   "cell_type": "code",
   "execution_count": null,
   "metadata": {},
   "outputs": [],
   "source": [
    "def factorial(n: int) -> int:\n",
    "    resultado = 1\n",
    "    numero_actual = 2\n",
    "    while numero_actual <= n:\n",
    "        resultado *= numero_actual \n",
    "        numero_actual += 1\n",
    "    return resultado"
   ]
  },
  {
   "cell_type": "code",
   "execution_count": null,
   "metadata": {},
   "outputs": [],
   "source": [
    "factorial(5)"
   ]
  },
  {
   "cell_type": "markdown",
   "metadata": {},
   "source": [
    "### Tenga mucho cuidado con:\n"
   ]
  },
  {
   "cell_type": "markdown",
   "metadata": {},
   "source": [
    "- Alejarse de terminación: "
   ]
  },
  {
   "cell_type": "code",
   "execution_count": null,
   "metadata": {},
   "outputs": [],
   "source": [
    "i = 1\n",
    "while i > 0:\n",
    "    print(i)\n",
    "    i = i + 1\n",
    "print(\"Terminé\")"
   ]
  },
  {
   "cell_type": "markdown",
   "metadata": {},
   "source": [
    "- Brincarse la meta:"
   ]
  },
  {
   "cell_type": "code",
   "execution_count": null,
   "metadata": {},
   "outputs": [],
   "source": [
    "i = 1\n",
    "while i != 10:\n",
    "    print(i)\n",
    "    i = i + 2\n",
    "print(\"Terminé\")"
   ]
  },
  {
   "cell_type": "markdown",
   "metadata": {},
   "source": [
    "- Problemas de indentación"
   ]
  },
  {
   "cell_type": "code",
   "execution_count": null,
   "metadata": {},
   "outputs": [],
   "source": [
    "i = 1\n",
    "while i < 10:\n",
    "    print(i)\n",
    "i = i + 1\n",
    "print(\"Terminé\")"
   ]
  },
  {
   "cell_type": "markdown",
   "metadata": {},
   "source": [
    "- Olvidar el avance"
   ]
  },
  {
   "cell_type": "code",
   "execution_count": null,
   "metadata": {},
   "outputs": [],
   "source": [
    "i = 1\n",
    "while i < 10:\n",
    "    print(i)\n",
    "print(\"Terminé\")"
   ]
  },
  {
   "cell_type": "markdown",
   "metadata": {},
   "source": [
    "### Ciclo `while` controlado por evento"
   ]
  },
  {
   "cell_type": "code",
   "execution_count": null,
   "metadata": {},
   "outputs": [],
   "source": [
    "promedio = 0.0\n",
    "total = 0\n",
    "contar = 0\n",
    "mensaje = \"Introduzca la nota de un estudiante (-1 para salir):\"\n",
    "\n",
    "nota = int(input(mensaje))\n",
    "\n",
    "while nota != -1:\n",
    "    total = total + nota\n",
    "    contar = contar + 1\n",
    "    nota = int(input(mensaje))\n",
    "\n",
    "promedio = total / contar\n",
    "print(\"Promedio de notas del grado escolar es:\", promedio)"
   ]
  },
  {
   "cell_type": "markdown",
   "metadata": {},
   "source": [
    "## Ciclo `for`"
   ]
  },
  {
   "cell_type": "markdown",
   "metadata": {},
   "source": [
    "```Python\n",
    "for <variable> in <secuencia>:\n",
    "    <cuerpo>\n",
    "```"
   ]
  },
  {
   "cell_type": "code",
   "execution_count": null,
   "metadata": {},
   "outputs": [],
   "source": [
    "for x in range(0, 3):\n",
    "    print(\"Estamos en la iteración \", x)"
   ]
  },
  {
   "cell_type": "code",
   "execution_count": null,
   "metadata": {},
   "outputs": [],
   "source": [
    "for x in range(0, 10, 2):\n",
    "    print(\"Estamos en la iteración \", x)"
   ]
  },
  {
   "cell_type": "code",
   "execution_count": null,
   "metadata": {},
   "outputs": [],
   "source": [
    "for x in range(10, 0, -2):\n",
    "    print(\"Estamos en la iteración \", x)"
   ]
  },
  {
   "cell_type": "code",
   "execution_count": null,
   "metadata": {},
   "outputs": [],
   "source": [
    "oracion = 'Mary entiende muy bien Python'\n",
    "frases = oracion.split()\n",
    "print(\"La oración analizada es:\", oracion, \".\\n\")\n",
    "\n",
    "for palabra in range(len(frases)):\n",
    "    print(\"Palabra: {0}, en la frase su posición es: {1}\".format( frases[palabra], palabra))"
   ]
  },
  {
   "cell_type": "markdown",
   "metadata": {},
   "source": [
    "### Ciclo `for` con diccionarios"
   ]
  },
  {
   "cell_type": "code",
   "execution_count": null,
   "metadata": {},
   "outputs": [],
   "source": [
    "frutas = {'Fresa':'roja', 'Limon':'verde', 'Papaya':'naranja', 'Manzana':'amarilla', 'Guayaba':\"rosa\" }\n",
    "for nombre in frutas:\n",
    "    print(f\"{nombre} es de color {frutas[nombre]}\")"
   ]
  },
  {
   "cell_type": "code",
   "execution_count": null,
   "metadata": {},
   "outputs": [],
   "source": [
    "frutas = {'Fresa':'roja', 'Limon':'verde', 'Papaya':'naranja', 'Manzana':'amarilla', 'Guayaba':\"rosa\" }\n",
    "for nombre, color in frutas.items():\n",
    "    print(f\"{nombre} es de color {color}\")"
   ]
  },
  {
   "cell_type": "code",
   "execution_count": null,
   "metadata": {},
   "outputs": [],
   "source": [
    "datos_basicos = {\n",
    "    \"nombres\":\"Leonardo Jose\",\n",
    "    \"apellidos\":\"Caballero Garcia\",\n",
    "    \"cedula\":\"26938401\",\n",
    "    \"fecha_nacimiento\":\"03/12/1980\",\n",
    "    \"lugar_nacimiento\":\"Maracaibo, Zulia, Venezuela\", \n",
    "    \"nacionalidad\":\"Venezolana\",\n",
    "    \"estado_civil\":\"Soltero\"\n",
    "}\n",
    "\n",
    "for clave, valor in datos_basicos.items(): \n",
    "    print(f\"{clave}: {valor}\")\n"
   ]
  },
  {
   "cell_type": "markdown",
   "metadata": {},
   "source": [
    "## Sentencia `break`"
   ]
  },
  {
   "cell_type": "code",
   "execution_count": null,
   "metadata": {},
   "outputs": [],
   "source": [
    "variable = 10\n",
    "while variable > 0:\n",
    "    print('Actual valor de variable:', variable) \n",
    "    variable = variable - 1\n",
    "    if variable == 5:\n",
    "        break"
   ]
  },
  {
   "cell_type": "code",
   "execution_count": null,
   "metadata": {},
   "outputs": [],
   "source": [
    "frutas = {'Fresa':'roja', 'Limon':'verde', 'Papaya':'naranja', 'Manzana':'amarilla', 'Guayaba':\"rosa\" }\n",
    "for nombre in frutas:\n",
    "    print(f\"{nombre} es de color {frutas[nombre]}\")\n",
    "    if nombre == \"Papaya\":\n",
    "        break"
   ]
  },
  {
   "cell_type": "markdown",
   "metadata": {},
   "source": [
    "## Sentencia `continue`"
   ]
  },
  {
   "cell_type": "code",
   "execution_count": null,
   "metadata": {},
   "outputs": [],
   "source": [
    "variable = 10\n",
    "while variable > 0:\n",
    "    variable = variable - 1\n",
    "    if variable == 5:\n",
    "        continue\n",
    "    print('Actual valor de variable:', variable) "
   ]
  },
  {
   "cell_type": "code",
   "execution_count": null,
   "metadata": {},
   "outputs": [],
   "source": [
    "frutas = {'Fresa':'roja', 'Limon':'verde', 'Papaya':'naranja', 'Manzana':'amarilla', 'Guayaba':\"rosa\" }\n",
    "for nombre in frutas:\n",
    "    if nombre == \"Papaya\":\n",
    "        continue\n",
    "    print(f\"{nombre} es de color {frutas[nombre]}\")"
   ]
  },
  {
   "cell_type": "markdown",
   "metadata": {},
   "source": [
    "## Ejemplos adicionales"
   ]
  },
  {
   "cell_type": "markdown",
   "metadata": {},
   "source": [
    "1. Extrae vocales del mensaje"
   ]
  },
  {
   "cell_type": "code",
   "execution_count": null,
   "metadata": {},
   "outputs": [],
   "source": [
    "mensaje = \"Hola, como estas tu?\"\n",
    "vocales = 'aeiou'\n",
    "for letra in mensaje:\n",
    "     if letra in vocales:\n",
    "            print(letra, end=\" \")"
   ]
  },
  {
   "cell_type": "markdown",
   "metadata": {},
   "source": [
    "2. Extrae constantes del mensaje"
   ]
  },
  {
   "cell_type": "code",
   "execution_count": null,
   "metadata": {},
   "outputs": [],
   "source": [
    "mensaje = \"Hola, como estas tu?\"\n",
    "vocales = 'aeiou'\n",
    "for letra in mensaje:\n",
    "     if letra not in vocales and letra != \" \":\n",
    "            print(letra, end=\" \")"
   ]
  },
  {
   "cell_type": "markdown",
   "metadata": {},
   "source": [
    "3. Leer números enteros de teclado, hasta que el usuario ingrese el 0. Finalmente, mostrar la sumatoria de todos los números ingresados."
   ]
  },
  {
   "cell_type": "code",
   "execution_count": null,
   "metadata": {},
   "outputs": [],
   "source": []
  },
  {
   "cell_type": "markdown",
   "metadata": {},
   "source": [
    "4. Leer números enteros positivos de teclado, hasta que el usuario ingrese el 0. Informar cuál fue el mayor número ingresado."
   ]
  },
  {
   "cell_type": "code",
   "execution_count": null,
   "metadata": {},
   "outputs": [],
   "source": []
  },
  {
   "cell_type": "markdown",
   "metadata": {},
   "source": [
    "5. Escriba un programa que acepte una secuencia de lineas e imprima todas las lineas convertidas en mayusculas. Deje una línea en blanco para indicar que ha finalizado la entrada de lineas. \n",
    "\n",
    "Por ejemplo, si la entrada es:\n",
    "```\n",
    "De tal palo tal astilla\n",
    "En casa de herrero, azadon de palo\n",
    "A todo marrano le llega su noche buena\n",
    "```\n",
    "Entonces la salida sería:\n",
    "```\n",
    "DE TAL PALO TAL ASTILLA\n",
    "EN CASA DE HERRERO, AZADON DE PALO\n",
    "A TODO MARRANO LE LLEGA SU NOCHE BUENA\n",
    "```"
   ]
  },
  {
   "cell_type": "code",
   "execution_count": null,
   "metadata": {},
   "outputs": [],
   "source": []
  },
  {
   "cell_type": "markdown",
   "metadata": {},
   "source": [
    "6. Escriba un programa que administre una cuenta bancaria, usando una bitácora de operaciones.\n",
    "La bitácora de operaciones tiene la siguiente forma:\n",
    "```\n",
    "D 100\n",
    "R 50\n",
    "```\n",
    "`D 100` significa que depositó 100 pesos\n",
    "`R 50` significa que retiró 50 pesos\n",
    "\n",
    "Ejemplo de una entrada:\n",
    "```\n",
    "D 200\n",
    "D 200\n",
    "R 100\n",
    "D 50\n",
    "```\n",
    "Introducir una linea vacia indica que ha finalizado la bitacora.\n",
    "La salida de éste programa sería:  \n",
    "`350`"
   ]
  },
  {
   "cell_type": "code",
   "execution_count": null,
   "metadata": {},
   "outputs": [],
   "source": []
  }
 ],
 "metadata": {
  "interpreter": {
   "hash": "aff35f7389d7e3d9eefdab8d6ee9cbeea8954c45d329bbe62fa514d288e678ef"
  },
  "kernelspec": {
   "display_name": "Python 3.9.5 64-bit",
   "language": "python",
   "name": "python3"
  },
  "language_info": {
   "codemirror_mode": {
    "name": "ipython",
    "version": 3
   },
   "file_extension": ".py",
   "mimetype": "text/x-python",
   "name": "python",
   "nbconvert_exporter": "python",
   "pygments_lexer": "ipython3",
   "version": "3.9.5"
  },
  "orig_nbformat": 4
 },
 "nbformat": 4,
 "nbformat_minor": 2
}

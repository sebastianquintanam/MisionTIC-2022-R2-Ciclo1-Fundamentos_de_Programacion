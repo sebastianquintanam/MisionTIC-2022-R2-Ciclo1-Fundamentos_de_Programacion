{
 "cells": [
  {
   "cell_type": "markdown",
   "metadata": {},
   "source": [
    "# Recursión\n",
    "\n",
    "![Muñecas Rusas](https://miro.medium.com/max/700/0*opEAS5f4H5qOnETV.jpg)\n",
    "\n",
    "![Recursividad](https://cdn-images-1.medium.com/max/1200/1*AX103NrmJFS5s4lsNRJTYg.jpeg)\n",
    "\n",
    "## Fractales \n",
    "Los fractales son una aplicación de la recursividad, ya que se van aplicando el mismo partón una y otra vez sobre la figura hasta el infinito.\n",
    "\n",
    "### Curva de Koch\n",
    "![Curva de Koch](https://www.matesfacil.com/fractales/von-Koch/Snowflake/3/Koch_snowflake_mini.gif)\n",
    "\n",
    "### Fractal de Cesàro\n",
    "![Fractal de Cesàro](https://www.matesfacil.com/fractales/von-Koch/Cesaro/Mini_Cesaro_fractal_gif.gif)\n",
    "\n",
    "### La salchicha de Minkowski\n",
    "![La salchicha de Minkowski](https://www.matesfacil.com/fractales/von-Koch/T2/T2_fractal_gif.gif)\n",
    "\n",
    "### Triángulo de Sierpinski\n",
    "![Triángulo de Sierpinski 1](https://upload.wikimedia.org/wikipedia/commons/thumb/7/74/Animated_construction_of_Sierpinski_Triangle.gif/581px-Animated_construction_of_Sierpinski_Triangle.gif)\n",
    "\n",
    "![Triángulo de Sierpinski 2](https://upload.wikimedia.org/wikipedia/commons/6/6b/Sierpinski_zoom_2.gif)"
   ]
  },
  {
   "cell_type": "markdown",
   "metadata": {},
   "source": [
    "# Funciones recursivas\n",
    "\n",
    "Funciones recursivas que son aquellas que se llaman a sí mismas."
   ]
  },
  {
   "cell_type": "markdown",
   "metadata": {},
   "source": [
    "## Cuenta regresiva"
   ]
  },
  {
   "cell_type": "code",
   "execution_count": null,
   "metadata": {},
   "outputs": [],
   "source": [
    "def cuenta_regresiva(numero):\n",
    "    # Algoritmo\n",
    "    if numero > 0:\n",
    "        print(numero)\n",
    "        cuenta_regresiva(numero - 1)\n",
    "    else:\n",
    "        print(\"Boooooooom!\")"
   ]
  },
  {
   "cell_type": "code",
   "execution_count": null,
   "metadata": {},
   "outputs": [],
   "source": [
    "cuenta_regresiva(10)"
   ]
  },
  {
   "cell_type": "markdown",
   "metadata": {},
   "source": [
    "## Factorial\n",
    "### Definición\n",
    "```\n",
    "factorial(0) = 1\n",
    "factorial(n) = n * factorial(n - 1)\n",
    "```\n",
    "### Solución"
   ]
  },
  {
   "cell_type": "code",
   "execution_count": null,
   "metadata": {},
   "outputs": [],
   "source": [
    "def factorial(n):\n",
    "    # Validar\n",
    "    if n < 0:\n",
    "        return \"Número erróneo\"\n",
    "    # Algoritmo\n",
    "    if n == 0:\n",
    "        return 1\n",
    "    else:\n",
    "        return n * factorial(n - 1)"
   ]
  },
  {
   "cell_type": "code",
   "execution_count": null,
   "metadata": {},
   "outputs": [],
   "source": [
    "print(factorial(5))"
   ]
  },
  {
   "cell_type": "markdown",
   "metadata": {},
   "source": [
    "## Fibonacci\n",
    "### Definición\n",
    "```\n",
    "fibonacci(0) = 0\n",
    "fibonacci(1) = 1\n",
    "fibonacci(n) = fibonacci(n - 1) + fibonacci(n - 2)\n",
    "```\n",
    "### Solución"
   ]
  },
  {
   "cell_type": "code",
   "execution_count": null,
   "metadata": {},
   "outputs": [],
   "source": [
    "def fibonacci(n):\n",
    "    # Validar\n",
    "    if n < 0:\n",
    "        return \"Número erróneo\"\n",
    "    # Algoritmo\n",
    "    if n == 0:\n",
    "        return 0\n",
    "    elif n == 1:\n",
    "        return 1\n",
    "    else:\n",
    "        return fibonacci(n - 1) + fibonacci(n - 2)"
   ]
  },
  {
   "cell_type": "code",
   "execution_count": null,
   "metadata": {},
   "outputs": [],
   "source": [
    "print(factorial(10))"
   ]
  },
  {
   "cell_type": "markdown",
   "metadata": {},
   "source": [
    "## Máximo común divisor\n",
    "### Definición\n",
    "```\n",
    "mcd(x, y):-\n",
    "    si y == 0 ==> x\n",
    "    si y > 0 ∧ x >= y ==> mcd(y, mod(x,y))  \n",
    "```\n",
    "### Solución"
   ]
  },
  {
   "cell_type": "code",
   "execution_count": null,
   "metadata": {},
   "outputs": [],
   "source": [
    "def mcd(x, y):\n",
    "    # Validar\n",
    "    if y < 0:\n",
    "        return \"No puede buscar divisores si hay números negativos\"\n",
    "    # Algoritmo\n",
    "    if y == 0:\n",
    "        return x\n",
    "    if x >= y:\n",
    "        return mcd(y, x % y) \n",
    "    else:\n",
    "        return mcd(y, x)"
   ]
  },
  {
   "cell_type": "code",
   "execution_count": null,
   "metadata": {},
   "outputs": [],
   "source": [
    "print(mcd(6, 4))"
   ]
  },
  {
   "cell_type": "markdown",
   "metadata": {},
   "source": [
    "## Torres de Hanoi\n",
    "\n",
    "![Juego torre de colores](https://ae01.alicdn.com/kf/HTB1WErAbovrK1RjSszfq6xJNVXa4/Juguete-educativo-cl-sico-para-edades-tempranas-juego-de-rompecabezas-matem-tico-de-madera-de-torre.jpg_q50.jpg)\n",
    "\n",
    "Las Torres de Hanói es un rompecabezas o juego matemático inventado en 1883 por el matemático francés Édouard Lucas. Este juego de mesa individual consiste en un número de discos perforados de radio creciente que se apilan insertándose en uno de los tres postes fijados a un tablero. El objetivo del juego es trasladar la pila a otro de los postes siguiendo ciertas reglas, como que no se puede colocar un disco más grande encima de un disco más pequeño. El problema es muy conocido en la ciencia de la computación y aparece en muchos libros de texto como introducción a la teoría de algoritmos. \n",
    "\n",
    "![Torres de Hanoi](https://upload.wikimedia.org/wikipedia/commons/8/8d/Iterative_algorithm_solving_a_6_disks_Tower_of_Hanoi.gif)\n",
    "\n",
    "### Solución"
   ]
  },
  {
   "cell_type": "code",
   "execution_count": null,
   "metadata": {},
   "outputs": [],
   "source": [
    "def hanoi(discos, torre_a = \"A\", torre_b = \"B\", torre_c = \"C\"):\n",
    "    if discos == 1:\n",
    "        print(f\"Mover disco {discos} de la torre {torre_a} a la torre {torre_c}\")\n",
    "    else:\n",
    "        hanoi(discos - 1, torre_a, torre_c, torre_b)\n",
    "        print(f\"Mover disco {discos} de la torre {torre_a} a la torre {torre_c}\")\n",
    "        hanoi(discos - 1, torre_b, torre_a, torre_c)"
   ]
  },
  {
   "cell_type": "code",
   "execution_count": null,
   "metadata": {},
   "outputs": [],
   "source": [
    "hanoi(3)"
   ]
  }
 ],
 "metadata": {
  "interpreter": {
   "hash": "aff35f7389d7e3d9eefdab8d6ee9cbeea8954c45d329bbe62fa514d288e678ef"
  },
  "kernelspec": {
   "display_name": "Python 3.9.5 64-bit",
   "language": "python",
   "name": "python3"
  },
  "language_info": {
   "codemirror_mode": {
    "name": "ipython",
    "version": 3
   },
   "file_extension": ".py",
   "mimetype": "text/x-python",
   "name": "python",
   "nbconvert_exporter": "python",
   "pygments_lexer": "ipython3",
   "version": "3.9.5"
  },
  "orig_nbformat": 4
 },
 "nbformat": 4,
 "nbformat_minor": 2
}

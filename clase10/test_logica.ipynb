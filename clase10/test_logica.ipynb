{
 "cells": [
  {
   "cell_type": "markdown",
   "metadata": {},
   "source": [
    "# Prueba de la capa lógica (CRUD)"
   ]
  },
  {
   "cell_type": "code",
   "execution_count": null,
   "metadata": {},
   "outputs": [],
   "source": [
    "from logica import * "
   ]
  },
  {
   "cell_type": "markdown",
   "metadata": {},
   "source": [
    "Listar todos los elementos en el almacenamiento"
   ]
  },
  {
   "cell_type": "code",
   "execution_count": null,
   "metadata": {},
   "outputs": [],
   "source": [
    "print(\"Todos:\", read_all())"
   ]
  },
  {
   "cell_type": "markdown",
   "metadata": {},
   "source": [
    "Consultar el siguiente consecutivo (esto no hace parte del CRUD, solo es para verificar si lo hace bien)"
   ]
  },
  {
   "cell_type": "code",
   "execution_count": null,
   "metadata": {},
   "outputs": [],
   "source": [
    "id = generate_id()\n",
    "print(\"ID Generado:\",id)\n",
    "print(\"Existe:\", exist(id))"
   ]
  },
  {
   "cell_type": "markdown",
   "metadata": {},
   "source": [
    "Agregar una nueva tarea al almacenamiento"
   ]
  },
  {
   "cell_type": "code",
   "execution_count": null,
   "metadata": {},
   "outputs": [],
   "source": [
    "create({\n",
    "    \"descripcion\": \"Programar como loco\",\n",
    "    \"estado\": \"pendiente\",\n",
    "    \"tiempo\": 135\n",
    "})\n",
    "print(\"Insertado:\", read_one(id))\n",
    "print(\"Existe:\", exist(id))"
   ]
  },
  {
   "cell_type": "markdown",
   "metadata": {},
   "source": [
    "Actualizar la información de la tarea"
   ]
  },
  {
   "cell_type": "code",
   "execution_count": null,
   "metadata": {},
   "outputs": [],
   "source": [
    "update(id, {\n",
    "    \"descripcion\": \"Programar como loco\",\n",
    "    \"estado\": \"en curso\",\n",
    "    \"tiempo\": 85\n",
    "})\n",
    "print(\"Actualizado:\", read_one(id))\n",
    "print(\"Existe:\", exist(id))"
   ]
  },
  {
   "cell_type": "markdown",
   "metadata": {},
   "source": [
    "Eliminar el elemento del almacenamiento"
   ]
  },
  {
   "cell_type": "code",
   "execution_count": null,
   "metadata": {},
   "outputs": [],
   "source": [
    "delete(id)\n",
    "print(\"Eliminado!!\\nExiste:\", exist(id))"
   ]
  }
 ],
 "metadata": {
  "interpreter": {
   "hash": "aff35f7389d7e3d9eefdab8d6ee9cbeea8954c45d329bbe62fa514d288e678ef"
  },
  "kernelspec": {
   "display_name": "Python 3.9.5 64-bit",
   "language": "python",
   "name": "python3"
  },
  "language_info": {
   "codemirror_mode": {
    "name": "ipython",
    "version": 3
   },
   "file_extension": ".py",
   "mimetype": "text/x-python",
   "name": "python",
   "nbconvert_exporter": "python",
   "pygments_lexer": "ipython3",
   "version": "3.9.5"
  },
  "orig_nbformat": 4
 },
 "nbformat": 4,
 "nbformat_minor": 2
}

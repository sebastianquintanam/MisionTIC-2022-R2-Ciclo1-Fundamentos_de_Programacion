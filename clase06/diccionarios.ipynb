{
 "cells": [
  {
   "cell_type": "markdown",
   "metadata": {},
   "source": [
    "# Manejo de Diccionarios"
   ]
  },
  {
   "cell_type": "markdown",
   "metadata": {},
   "source": [
    "## Definición"
   ]
  },
  {
   "cell_type": "code",
   "execution_count": null,
   "metadata": {},
   "outputs": [],
   "source": [
    "profesor = {}\n",
    "\n",
    "profesor = dict()"
   ]
  },
  {
   "cell_type": "code",
   "execution_count": null,
   "metadata": {},
   "outputs": [],
   "source": [
    "profesor = {\n",
    "    \"key\": \"value\",\n",
    "    \"nombre\": \"Cesar\",\n",
    "    \"nacionalidad\": \"Colombiano\",\n",
    "    \"edad\": 41\n",
    "}\n",
    "\n",
    "print(profesor)"
   ]
  },
  {
   "cell_type": "markdown",
   "metadata": {},
   "source": [
    "## Manipulación de diccionarios"
   ]
  },
  {
   "cell_type": "markdown",
   "metadata": {},
   "source": [
    "### Modificando el valor de una llave"
   ]
  },
  {
   "cell_type": "code",
   "execution_count": null,
   "metadata": {},
   "outputs": [],
   "source": [
    "profesor[\"nombre\"] = \"Cesar Diaz\"\n",
    "\n",
    "print(profesor)"
   ]
  },
  {
   "cell_type": "code",
   "execution_count": null,
   "metadata": {},
   "outputs": [],
   "source": [
    "profesor[\"edad\"] += 1\n",
    "\n",
    "print(profesor)"
   ]
  },
  {
   "cell_type": "markdown",
   "metadata": {},
   "source": [
    "### Agregando un nuevo dato al diccionario"
   ]
  },
  {
   "cell_type": "code",
   "execution_count": null,
   "metadata": {},
   "outputs": [],
   "source": [
    "profesor[\"estudiante\"] = { \"nombre\": \"Edwin\", \"nota\": 3.0}\n",
    "\n",
    "print(profesor)"
   ]
  },
  {
   "cell_type": "markdown",
   "metadata": {},
   "source": [
    "### Eliminando datos de un diccionario"
   ]
  },
  {
   "cell_type": "code",
   "execution_count": null,
   "metadata": {},
   "outputs": [],
   "source": [
    "del profesor[\"edad\"]\n",
    "\n",
    "print(profesor)"
   ]
  },
  {
   "cell_type": "markdown",
   "metadata": {},
   "source": [
    "### Extrayendo información del diccionario"
   ]
  },
  {
   "cell_type": "code",
   "execution_count": null,
   "metadata": {},
   "outputs": [],
   "source": [
    "print(\"Nombre:\", profesor[\"nombre\"])"
   ]
  },
  {
   "cell_type": "code",
   "execution_count": null,
   "metadata": {},
   "outputs": [],
   "source": [
    "print(\"Nombre estudiante:\", profesor[\"estudiante\"][\"nombre\"])"
   ]
  },
  {
   "cell_type": "markdown",
   "metadata": {},
   "source": [
    "## Pasar información a una función por parámetro"
   ]
  },
  {
   "cell_type": "code",
   "execution_count": null,
   "metadata": {},
   "outputs": [],
   "source": [
    "def calcular_promedio(nombre: str, nota1: float, nota2: float, nota3: float, nota4: float):\n",
    "    promedio = (nota1 + nota2 + nota3 + nota4) / 4\n",
    "    return f\"El estudiante {nombre} ha obtenido la nota de {promedio:.1f}\" "
   ]
  },
  {
   "cell_type": "code",
   "execution_count": null,
   "metadata": {},
   "outputs": [],
   "source": [
    "print(calcular_promedio(\"Cesar Diaz\", 3.5, 4.5, 5.0, 2.1))"
   ]
  },
  {
   "cell_type": "code",
   "execution_count": null,
   "metadata": {},
   "outputs": [],
   "source": [
    "def calcular_promedio_estudiante(estudiante: dict):\n",
    "    promedio = (estudiante[\"nota1\"] + estudiante[\"nota2\"] + estudiante[\"nota3\"] + estudiante[\"nota4\"]) / 4\n",
    "    return f\"El estudiante {estudiante['nombre']} ha obtenido la nota de {promedio:.1f}\" "
   ]
  },
  {
   "cell_type": "code",
   "execution_count": null,
   "metadata": {},
   "outputs": [],
   "source": [
    "cesar = {\n",
    "    \"nombre\": \"Cesar Diaz\",\n",
    "    \"nota1\": 3.5,\n",
    "    \"nota2\": 4.5,\n",
    "    \"nota3\": 5.0,\n",
    "    \"nota4\": 2.1\n",
    "}\n",
    "print(calcular_promedio_estudiante(cesar))"
   ]
  }
 ],
 "metadata": {
  "interpreter": {
   "hash": "c538cf36d1368961783812db133503b5bcd381ebafab078933f492cb36ca4168"
  },
  "kernelspec": {
   "display_name": "Python 3.9.5 64-bit",
   "language": "python",
   "name": "python3"
  },
  "language_info": {
   "codemirror_mode": {
    "name": "ipython",
    "version": 3
   },
   "file_extension": ".py",
   "mimetype": "text/x-python",
   "name": "python",
   "nbconvert_exporter": "python",
   "pygments_lexer": "ipython3",
   "version": "3.9.5"
  },
  "orig_nbformat": 4
 },
 "nbformat": 4,
 "nbformat_minor": 2
}
